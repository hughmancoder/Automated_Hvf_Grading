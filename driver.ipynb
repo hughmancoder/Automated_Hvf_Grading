{
 "cells": [
  {
   "cell_type": "code",
   "execution_count": 1,
   "metadata": {},
   "outputs": [
    {
     "ename": "ModuleNotFoundError",
     "evalue": "No module named 'filterData'",
     "output_type": "error",
     "traceback": [
      "\u001b[0;31m---------------------------------------------------------------------------\u001b[0m",
      "\u001b[0;31mModuleNotFoundError\u001b[0m                       Traceback (most recent call last)",
      "\u001b[1;32m/Users/hughsignoriello/Desktop/automated_hvf_grading/driver.ipynb Cell 1\u001b[0m in \u001b[0;36m<cell line: 1>\u001b[0;34m()\u001b[0m\n\u001b[0;32m----> <a href='vscode-notebook-cell:/Users/hughsignoriello/Desktop/automated_hvf_grading/driver.ipynb#W0sZmlsZQ%3D%3D?line=0'>1</a>\u001b[0m \u001b[39mfrom\u001b[39;00m \u001b[39mautomated_hvf_grading\u001b[39;00m \u001b[39mimport\u001b[39;00m extractHVFData\n\u001b[1;32m      <a href='vscode-notebook-cell:/Users/hughsignoriello/Desktop/automated_hvf_grading/driver.ipynb#W0sZmlsZQ%3D%3D?line=1'>2</a>\u001b[0m \u001b[39mfrom\u001b[39;00m \u001b[39mautomated_hvf_grading\u001b[39;00m \u001b[39mimport\u001b[39;00m user\n",
      "File \u001b[0;32m~/Desktop/automated_hvf_grading/automated_hvf_grading/extractHVFData.py:7\u001b[0m, in \u001b[0;36m<module>\u001b[0;34m\u001b[0m\n\u001b[1;32m      4\u001b[0m \u001b[39mfrom\u001b[39;00m \u001b[39mhvf_extraction_script\u001b[39;00m\u001b[39m.\u001b[39;00m\u001b[39mutilities\u001b[39;00m\u001b[39m.\u001b[39;00m\u001b[39mfile_utils\u001b[39;00m \u001b[39mimport\u001b[39;00m File_Utils\n\u001b[1;32m      6\u001b[0m \u001b[39m# import User\u001b[39;00m\n\u001b[0;32m----> 7\u001b[0m \u001b[39mfrom\u001b[39;00m \u001b[39mfilterData\u001b[39;00m \u001b[39mimport\u001b[39;00m FilterData\n\u001b[1;32m      8\u001b[0m \u001b[39mfrom\u001b[39;00m \u001b[39mpdf2image\u001b[39;00m \u001b[39mimport\u001b[39;00m convert_from_path\n\u001b[1;32m      9\u001b[0m \u001b[39mimport\u001b[39;00m \u001b[39mos\u001b[39;00m\n",
      "\u001b[0;31mModuleNotFoundError\u001b[0m: No module named 'filterData'"
     ]
    }
   ],
   "source": [
    "from automated_hvf_grading import extractHVFData\n",
    "from automated_hvf_grading import user"
   ]
  },
  {
   "cell_type": "code",
   "execution_count": 2,
   "metadata": {},
   "outputs": [
    {
     "ename": "ImportError",
     "evalue": "cannot import name 'processData' from 'automated_hvf_grading.processData' (/Users/hughsignoriello/Desktop/automated_hvf_grading/automated_hvf_grading/processData.py)",
     "output_type": "error",
     "traceback": [
      "\u001b[0;31m---------------------------------------------------------------------------\u001b[0m",
      "\u001b[0;31mImportError\u001b[0m                               Traceback (most recent call last)",
      "\u001b[1;32m/Users/hughsignoriello/Desktop/automated_hvf_grading/driver.ipynb Cell 2\u001b[0m in \u001b[0;36m<cell line: 4>\u001b[0;34m()\u001b[0m\n\u001b[1;32m      <a href='vscode-notebook-cell:/Users/hughsignoriello/Desktop/automated_hvf_grading/driver.ipynb#W1sZmlsZQ%3D%3D?line=0'>1</a>\u001b[0m \u001b[39mimport\u001b[39;00m \u001b[39mpandas\u001b[39;00m \u001b[39mas\u001b[39;00m \u001b[39mpd\u001b[39;00m\n\u001b[1;32m      <a href='vscode-notebook-cell:/Users/hughsignoriello/Desktop/automated_hvf_grading/driver.ipynb#W1sZmlsZQ%3D%3D?line=2'>3</a>\u001b[0m path \u001b[39m=\u001b[39m \u001b[39m'\u001b[39m\u001b[39m/Users/hughsignoriello/Desktop/automated-hvf-grading/hvf_error.pdf\u001b[39m\u001b[39m'\u001b[39m\n\u001b[0;32m----> <a href='vscode-notebook-cell:/Users/hughsignoriello/Desktop/automated_hvf_grading/driver.ipynb#W1sZmlsZQ%3D%3D?line=3'>4</a>\u001b[0m \u001b[39mfrom\u001b[39;00m \u001b[39mautomated_hvf_grading\u001b[39;00m \u001b[39mimport\u001b[39;00m processFiles\n\u001b[1;32m      <a href='vscode-notebook-cell:/Users/hughsignoriello/Desktop/automated_hvf_grading/driver.ipynb#W1sZmlsZQ%3D%3D?line=5'>6</a>\u001b[0m FileProcesser \u001b[39m=\u001b[39m processFiles\u001b[39m.\u001b[39mProcessFiles()\n\u001b[1;32m      <a href='vscode-notebook-cell:/Users/hughsignoriello/Desktop/automated_hvf_grading/driver.ipynb#W1sZmlsZQ%3D%3D?line=6'>7</a>\u001b[0m \u001b[39mprint\u001b[39m(FileProcesser\u001b[39m.\u001b[39mrunFile(path))\n",
      "File \u001b[0;32m~/Desktop/automated_hvf_grading/automated_hvf_grading/processFiles.py:8\u001b[0m, in \u001b[0;36m<module>\u001b[0;34m\u001b[0m\n\u001b[1;32m      6\u001b[0m \u001b[39m# == dependencies == \u001b[39;00m\n\u001b[1;32m      7\u001b[0m \u001b[39mfrom\u001b[39;00m \u001b[39mautomated_hvf_grading\u001b[39;00m\u001b[39m.\u001b[39;00m\u001b[39mextractHVFData\u001b[39;00m \u001b[39mimport\u001b[39;00m ExtractHVFData\n\u001b[0;32m----> 8\u001b[0m \u001b[39mfrom\u001b[39;00m \u001b[39mautomated_hvf_grading\u001b[39;00m\u001b[39m.\u001b[39;00m\u001b[39mprocessData\u001b[39;00m \u001b[39mimport\u001b[39;00m processData\n\u001b[1;32m      9\u001b[0m \u001b[39mfrom\u001b[39;00m \u001b[39mjoblib\u001b[39;00m \u001b[39mimport\u001b[39;00m Parallel, delayed\n\u001b[1;32m     10\u001b[0m \u001b[39mfrom\u001b[39;00m \u001b[39mautomated_hvf_grading\u001b[39;00m\u001b[39m.\u001b[39;00m\u001b[39mhvfAlgorithm\u001b[39;00m \u001b[39mimport\u001b[39;00m HVFAlgorithm\n",
      "\u001b[0;31mImportError\u001b[0m: cannot import name 'processData' from 'automated_hvf_grading.processData' (/Users/hughsignoriello/Desktop/automated_hvf_grading/automated_hvf_grading/processData.py)"
     ]
    }
   ],
   "source": [
    "import pandas as pd\n",
    "\n",
    "path = '/Users/hughsignoriello/Desktop/automated-hvf-grading/hvf_error.pdf'\n",
    "from automated_hvf_grading import processFiles\n",
    "\n",
    "FileProcesser = processFiles.ProcessFiles()\n",
    "print(FileProcesser.runFile(path))\n",
    "\n",
    "\"\"\"\n",
    "pd.set_option(\n",
    "    \"display.max_rows\", None, \"display.max_columns\", None\n",
    ")  # shows full df\n",
    "from IPython.display import display \n",
    "display(df) # jupyter notebook \n",
    "print(df.head())\n",
    "\"\"\"\n",
    "\n",
    "print(\"script complete\")"
   ]
  },
  {
   "cell_type": "code",
   "execution_count": null,
   "metadata": {},
   "outputs": [],
   "source": [
    "# == build data frame == \n",
    "# def buildDataframe():\n",
    "#     dataframe_column_names = [\n",
    "#         \"FileName\",\n",
    "#         \"Name\",\n",
    "#         \"DOB\",\n",
    "#         \"ID\",\n",
    "#         \"Eye\",\n",
    "#         \"Size\",\n",
    "#         \"Date\",\n",
    "#         \"RX\",\n",
    "#         \"GHT\",\n",
    "#         \"VFI\",\n",
    "#         \"MD_db\",\n",
    "#         \"MD\",\n",
    "#         \"PSD\",\n",
    "#         \"PSD_db\",\n",
    "#         \"FalsePOS\",\n",
    "#         \"FixationLoss\",\n",
    "#         \"Reliable\",\n",
    "#         \"UL\",\n",
    "#         \"LL\",\n",
    "#         \"UM\",\n",
    "#         \"UC\",\n",
    "#         \"LC\",\n",
    "#         \"LM\",\n",
    "#         \"UR\",\n",
    "#         \"LR\",\n",
    "#         \"Criteria\",\n",
    "#         \"isAbnormal\",\n",
    "#     ]\n",
    "\n",
    "#     ParallelProcesser = ParallelProcess() # parallel processor object\n",
    "#     data = ParallelProcesser.RunFile(\"\")\n",
    "#     return  pd.DataFrame(data, columns = dataframe_column_names)\n",
    "# df = buildDataframe()"
   ]
  }
 ],
 "metadata": {
  "kernelspec": {
   "display_name": "Python 3.10.4 ('automated-hvf-grading')",
   "language": "python",
   "name": "python3"
  },
  "language_info": {
   "codemirror_mode": {
    "name": "ipython",
    "version": 3
   },
   "file_extension": ".py",
   "mimetype": "text/x-python",
   "name": "python",
   "nbconvert_exporter": "python",
   "pygments_lexer": "ipython3",
   "version": "3.10.4"
  },
  "orig_nbformat": 4,
  "vscode": {
   "interpreter": {
    "hash": "a49396cd7606816f4762969f156db9c82a746426aa1c43471e4e1aa2d0587120"
   }
  }
 },
 "nbformat": 4,
 "nbformat_minor": 2
}
