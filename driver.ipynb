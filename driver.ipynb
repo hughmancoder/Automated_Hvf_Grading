{
 "cells": [
  {
   "cell_type": "code",
   "execution_count": 53,
   "metadata": {},
   "outputs": [],
   "source": [
    "import pathlib\n",
    "import os\n",
    "\n",
    "faulty_pdf_path = '/Users/hughsignoriello/Desktop/automated-hvf-grading/hvf_error.pdf'\n",
    "# == get file paths == \n",
    "def getSingleFieldPaths(size):\n",
    "    file_batches  = os.walk('singleField')\n",
    "    paths = list(file_batches)[0][2]\n",
    "    if size < len(paths):\n",
    "        return paths[:size]\n",
    "    return paths\n"
   ]
  },
  {
   "cell_type": "code",
   "execution_count": 52,
   "metadata": {},
   "outputs": [
    {
     "name": "stdout",
     "output_type": "stream",
     "text": [
      "update\n",
      "Info: Analysing CG_20130524_1422_OS_SFA_CENTRAL_24_2_THRESHOLD_TEST_OS_1.2.276.0.75.2.5.80.25.3.200331021708504.22002785422940.26313585.pdf\n",
      "Error: Error occured in extracting matrix from VF file as file: CG_20130524_1422_OS_SFA_CENTRAL_24_2_THRESHOLD_TEST_OS_1.2.276.0.75.2.5.80.25.3.200331021708504.22002785422940.26313585.pdf not in readable format\n",
      "Error: matrix is empty data not extracted\n",
      "['CG_20130524_1422_OS_SFA_CENTRAL_24_2_THRESHOLD_TEST_OS_1.2.276.0.75.2.5.80.25.3.200331021708504.22002785422940.26313585.pdf', 'Error', 'Error', 'Error', 'Error', 'Error', 'Error', 'Error', 'Error', 'Error', 'Error', 'Error', 'Error', 'Error', 'Error', 'Error', 'Error', 'Error', 'Error', 'Error', 'Error', 'Error', 'Error']\n",
      "Info: Analysing CG_20130524_1422_OS_SFA_CENTRAL_24_2_THRESHOLD_TEST_OS_1.2.276.0.75.2.5.80.25.3.200331021708504.22002785422940.26313585.pdf\n",
      "Error: Error occured in extracting matrix from VF file as file: CG_20130524_1422_OS_SFA_CENTRAL_24_2_THRESHOLD_TEST_OS_1.2.276.0.75.2.5.80.25.3.200331021708504.22002785422940.26313585.pdf not in readable format\n",
      "Error: matrix is empty data not extracted\n",
      "['CG_20130524_1422_OS_SFA_CENTRAL_24_2_THRESHOLD_TEST_OS_1.2.276.0.75.2.5.80.25.3.200331021708504.22002785422940.26313585.pdf', 'Error', 'Error', 'Error', 'Error', 'Error', 'Error', 'Error', 'Error', 'Error', 'Error', 'Error', 'Error', 'Error', 'Error', 'Error', 'Error', 'Error', 'Error', 'Error', 'Error', 'Error', 'Error']\n",
      "Info: Analysing CG_20130524_1422_OS_SFA_CENTRAL_24_2_THRESHOLD_TEST_OS_1.2.276.0.75.2.5.80.25.3.200331021708504.22002785422940.26313585.pdf\n",
      "Error: Error occured in extracting matrix from VF file as file: CG_20130524_1422_OS_SFA_CENTRAL_24_2_THRESHOLD_TEST_OS_1.2.276.0.75.2.5.80.25.3.200331021708504.22002785422940.26313585.pdf not in readable format\n",
      "Error: matrix is empty data not extracted\n",
      "['CG_20130524_1422_OS_SFA_CENTRAL_24_2_THRESHOLD_TEST_OS_1.2.276.0.75.2.5.80.25.3.200331021708504.22002785422940.26313585.pdf', 'Error', 'Error', 'Error', 'Error', 'Error', 'Error', 'Error', 'Error', 'Error', 'Error', 'Error', 'Error', 'Error', 'Error', 'Error', 'Error', 'Error', 'Error', 'Error', 'Error', 'Error', 'Error']\n",
      "Info: Analysing CG_20130524_1422_OS_SFA_CENTRAL_24_2_THRESHOLD_TEST_OS_1.2.276.0.75.2.5.80.25.3.200331021708504.22002785422940.26313585.pdf\n",
      "Error: Error occured in extracting matrix from VF file as file: CG_20130524_1422_OS_SFA_CENTRAL_24_2_THRESHOLD_TEST_OS_1.2.276.0.75.2.5.80.25.3.200331021708504.22002785422940.26313585.pdf not in readable format\n",
      "Error: matrix is empty data not extracted\n",
      "['CG_20130524_1422_OS_SFA_CENTRAL_24_2_THRESHOLD_TEST_OS_1.2.276.0.75.2.5.80.25.3.200331021708504.22002785422940.26313585.pdf', 'Error', 'Error', 'Error', 'Error', 'Error', 'Error', 'Error', 'Error', 'Error', 'Error', 'Error', 'Error', 'Error', 'Error', 'Error', 'Error', 'Error', 'Error', 'Error', 'Error', 'Error', 'Error']\n",
      "Info: Analysing CG_20130524_1422_OS_SFA_CENTRAL_24_2_THRESHOLD_TEST_OS_1.2.276.0.75.2.5.80.25.3.200331021708504.22002785422940.26313585.pdf\n",
      "Error: Error occured in extracting matrix from VF file as file: CG_20130524_1422_OS_SFA_CENTRAL_24_2_THRESHOLD_TEST_OS_1.2.276.0.75.2.5.80.25.3.200331021708504.22002785422940.26313585.pdf not in readable format\n",
      "Error: matrix is empty data not extracted\n",
      "['CG_20130524_1422_OS_SFA_CENTRAL_24_2_THRESHOLD_TEST_OS_1.2.276.0.75.2.5.80.25.3.200331021708504.22002785422940.26313585.pdf', 'Error', 'Error', 'Error', 'Error', 'Error', 'Error', 'Error', 'Error', 'Error', 'Error', 'Error', 'Error', 'Error', 'Error', 'Error', 'Error', 'Error', 'Error', 'Error', 'Error', 'Error', 'Error']\n",
      "Info: Analysing CG_20130524_1422_OS_SFA_CENTRAL_24_2_THRESHOLD_TEST_OS_1.2.276.0.75.2.5.80.25.3.200331021708504.22002785422940.26313585.pdf\n",
      "Error: Error occured in extracting matrix from VF file as file: CG_20130524_1422_OS_SFA_CENTRAL_24_2_THRESHOLD_TEST_OS_1.2.276.0.75.2.5.80.25.3.200331021708504.22002785422940.26313585.pdf not in readable format\n",
      "Error: matrix is empty data not extracted\n",
      "['CG_20130524_1422_OS_SFA_CENTRAL_24_2_THRESHOLD_TEST_OS_1.2.276.0.75.2.5.80.25.3.200331021708504.22002785422940.26313585.pdf', 'Error', 'Error', 'Error', 'Error', 'Error', 'Error', 'Error', 'Error', 'Error', 'Error', 'Error', 'Error', 'Error', 'Error', 'Error', 'Error', 'Error', 'Error', 'Error', 'Error', 'Error', 'Error']\n",
      "Info: Analysing CG_20130524_1422_OS_SFA_CENTRAL_24_2_THRESHOLD_TEST_OS_1.2.276.0.75.2.5.80.25.3.200331021708504.22002785422940.26313585.pdf\n",
      "Error: Error occured in extracting matrix from VF file as file: CG_20130524_1422_OS_SFA_CENTRAL_24_2_THRESHOLD_TEST_OS_1.2.276.0.75.2.5.80.25.3.200331021708504.22002785422940.26313585.pdf not in readable format\n",
      "Error: matrix is empty data not extracted\n",
      "['CG_20130524_1422_OS_SFA_CENTRAL_24_2_THRESHOLD_TEST_OS_1.2.276.0.75.2.5.80.25.3.200331021708504.22002785422940.26313585.pdf', 'Error', 'Error', 'Error', 'Error', 'Error', 'Error', 'Error', 'Error', 'Error', 'Error', 'Error', 'Error', 'Error', 'Error', 'Error', 'Error', 'Error', 'Error', 'Error', 'Error', 'Error', 'Error']\n",
      "Info: Analysing CG_20130524_1422_OS_SFA_CENTRAL_24_2_THRESHOLD_TEST_OS_1.2.276.0.75.2.5.80.25.3.200331021708504.22002785422940.26313585.pdf\n",
      "Error: Error occured in extracting matrix from VF file as file: CG_20130524_1422_OS_SFA_CENTRAL_24_2_THRESHOLD_TEST_OS_1.2.276.0.75.2.5.80.25.3.200331021708504.22002785422940.26313585.pdf not in readable format\n",
      "Error: matrix is empty data not extracted\n",
      "['CG_20130524_1422_OS_SFA_CENTRAL_24_2_THRESHOLD_TEST_OS_1.2.276.0.75.2.5.80.25.3.200331021708504.22002785422940.26313585.pdf', 'Error', 'Error', 'Error', 'Error', 'Error', 'Error', 'Error', 'Error', 'Error', 'Error', 'Error', 'Error', 'Error', 'Error', 'Error', 'Error', 'Error', 'Error', 'Error', 'Error', 'Error', 'Error']\n",
      "Info: Analysing CG_20130524_1422_OS_SFA_CENTRAL_24_2_THRESHOLD_TEST_OS_1.2.276.0.75.2.5.80.25.3.200331021708504.22002785422940.26313585.pdf\n",
      "Error: Error occured in extracting matrix from VF file as file: CG_20130524_1422_OS_SFA_CENTRAL_24_2_THRESHOLD_TEST_OS_1.2.276.0.75.2.5.80.25.3.200331021708504.22002785422940.26313585.pdf not in readable format\n",
      "Error: matrix is empty data not extracted\n",
      "['CG_20130524_1422_OS_SFA_CENTRAL_24_2_THRESHOLD_TEST_OS_1.2.276.0.75.2.5.80.25.3.200331021708504.22002785422940.26313585.pdf', 'Error', 'Error', 'Error', 'Error', 'Error', 'Error', 'Error', 'Error', 'Error', 'Error', 'Error', 'Error', 'Error', 'Error', 'Error', 'Error', 'Error', 'Error', 'Error', 'Error', 'Error', 'Error']\n",
      "Info: Analysing CG_20130524_1422_OS_SFA_CENTRAL_24_2_THRESHOLD_TEST_OS_1.2.276.0.75.2.5.80.25.3.200331021708504.22002785422940.26313585.pdf\n",
      "Error: Error occured in extracting matrix from VF file as file: CG_20130524_1422_OS_SFA_CENTRAL_24_2_THRESHOLD_TEST_OS_1.2.276.0.75.2.5.80.25.3.200331021708504.22002785422940.26313585.pdf not in readable format\n",
      "Error: matrix is empty data not extracted\n",
      "['CG_20130524_1422_OS_SFA_CENTRAL_24_2_THRESHOLD_TEST_OS_1.2.276.0.75.2.5.80.25.3.200331021708504.22002785422940.26313585.pdf', 'Error', 'Error', 'Error', 'Error', 'Error', 'Error', 'Error', 'Error', 'Error', 'Error', 'Error', 'Error', 'Error', 'Error', 'Error', 'Error', 'Error', 'Error', 'Error', 'Error', 'Error', 'Error']\n",
      "script complete\n"
     ]
    }
   ],
   "source": [
    "# == runs functions ==\n",
    "import pandas as pd\n",
    "\n",
    "# == dependencies == \n",
    "# from IPython.display import display # to display df for testing\n",
    "\n",
    "from automated_hvf_grading import processFiles\n",
    "\n",
    "\n",
    "\n",
    "# create processor object\n",
    "FileProcesser = processFiles.ProcessFiles()\n",
    "print(\"update\")\n",
    "paths = getSingleFieldPaths(10)\n",
    "for path in paths:\n",
    "    print(FileProcesser.runFile(path))\n",
    "\n",
    "\n",
    "pd.set_option(\n",
    "    \"display.max_rows\", None, \"display.max_columns\", None\n",
    ")  # shows full df\n",
    "\n",
    "\n",
    "# display(df) # jupyter notebook \n",
    "# print(df.head())\n",
    "\n",
    "print(\"script complete\")"
   ]
  },
  {
   "cell_type": "code",
   "execution_count": null,
   "metadata": {},
   "outputs": [],
   "source": [
    "# == build data frame == \n",
    "# def buildDataframe():\n",
    "#     dataframe_column_names = [\n",
    "#         \"FileName\",\n",
    "#         \"Name\",\n",
    "#         \"DOB\",\n",
    "#         \"ID\",\n",
    "#         \"Eye\",\n",
    "#         \"Size\",\n",
    "#         \"Date\",\n",
    "#         \"RX\",\n",
    "#         \"GHT\",\n",
    "#         \"VFI\",\n",
    "#         \"MD_db\",\n",
    "#         \"MD\",\n",
    "#         \"PSD\",\n",
    "#         \"PSD_db\",\n",
    "#         \"FalsePOS\",\n",
    "#         \"FixationLoss\",\n",
    "#         \"Reliable\",\n",
    "#         \"UL\",\n",
    "#         \"LL\",\n",
    "#         \"UM\",\n",
    "#         \"UC\",\n",
    "#         \"LC\",\n",
    "#         \"LM\",\n",
    "#         \"UR\",\n",
    "#         \"LR\",\n",
    "#         \"Criteria\",\n",
    "#         \"isAbnormal\",\n",
    "#     ]\n",
    "\n",
    "#     ParallelProcesser = ParallelProcess() # parallel processor object\n",
    "#     data = ParallelProcesser.RunFile(\"\")\n",
    "#     return  pd.DataFrame(data, columns = dataframe_column_names)\n",
    "# df = buildDataframe()"
   ]
  }
 ],
 "metadata": {
  "kernelspec": {
   "display_name": "Python 3.10.4 ('automated-hvf-grading')",
   "language": "python",
   "name": "python3"
  },
  "language_info": {
   "codemirror_mode": {
    "name": "ipython",
    "version": 3
   },
   "file_extension": ".py",
   "mimetype": "text/x-python",
   "name": "python",
   "nbconvert_exporter": "python",
   "pygments_lexer": "ipython3",
   "version": "3.10.4"
  },
  "orig_nbformat": 4,
  "vscode": {
   "interpreter": {
    "hash": "a49396cd7606816f4762969f156db9c82a746426aa1c43471e4e1aa2d0587120"
   }
  }
 },
 "nbformat": 4,
 "nbformat_minor": 2
}
