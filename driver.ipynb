{
 "cells": [
  {
   "cell_type": "code",
   "execution_count": 1,
   "metadata": {},
   "outputs": [],
   "source": [
    "import sys\n",
    "import os\n",
    "import numpy as np\n",
    "import pandas as pd\n",
    "from automated_hvf_grading import extractHVFData\n",
    "from automated_hvf_grading import user\n",
    "from automated_hvf_grading import processData\n",
    "from automated_hvf_grading import processFiles\n",
    "from automated_hvf_grading import dataFrame\n",
    "from IPython.display import display # displaying dataframe"
   ]
  },
  {
   "cell_type": "code",
   "execution_count": 2,
   "metadata": {},
   "outputs": [],
   "source": [
    "# create data_frame\n",
    "user = user.User()\n",
    "data_frame = dataFrame.DataFrame(user)\n"
   ]
  },
  {
   "cell_type": "code",
   "execution_count": 3,
   "metadata": {},
   "outputs": [
    {
     "name": "stdout",
     "output_type": "stream",
     "text": [
      "Error: ght unable to be extractedtype object 'Hvf_Object' has no attribute 'KEYLABEL_GHT'\n",
      "Error: metadata md % not able to be extractedtype object 'Hvf_Object' has no attribute 'KEYLABEL_MDP'\n",
      "Error: metadata psd % not able to be extractedtype object 'Hvf_Object' has no attribute 'KEYLABEL_PSDP'\n",
      "Error: user criteria is unable to be determined due to faulty psd% format; Defaulting to criteria 2\n",
      "Error: ght unable to be extractedtype object 'Hvf_Object' has no attribute 'KEYLABEL_GHT'\n",
      "Error: metadata md % not able to be extractedtype object 'Hvf_Object' has no attribute 'KEYLABEL_MDP'\n",
      "Error: metadata psd % not able to be extractedtype object 'Hvf_Object' has no attribute 'KEYLABEL_PSDP'\n",
      "Error: user criteria is unable to be determined due to faulty psd% format; Defaulting to criteria 2\n"
     ]
    },
    {
     "data": {
      "text/html": [
       "<div>\n",
       "<style scoped>\n",
       "    .dataframe tbody tr th:only-of-type {\n",
       "        vertical-align: middle;\n",
       "    }\n",
       "\n",
       "    .dataframe tbody tr th {\n",
       "        vertical-align: top;\n",
       "    }\n",
       "\n",
       "    .dataframe thead th {\n",
       "        text-align: right;\n",
       "    }\n",
       "</style>\n",
       "<table border=\"1\" class=\"dataframe\">\n",
       "  <thead>\n",
       "    <tr style=\"text-align: right;\">\n",
       "      <th></th>\n",
       "      <th>filename</th>\n",
       "      <th>name</th>\n",
       "      <th>dob</th>\n",
       "      <th>id</th>\n",
       "      <th>eye</th>\n",
       "      <th>test_date</th>\n",
       "      <th>pattern_deviation_matrix</th>\n",
       "      <th>rx</th>\n",
       "      <th>vfi</th>\n",
       "      <th>ght</th>\n",
       "      <th>...</th>\n",
       "      <th>UL</th>\n",
       "      <th>LL</th>\n",
       "      <th>UM</th>\n",
       "      <th>UC</th>\n",
       "      <th>LC</th>\n",
       "      <th>LM</th>\n",
       "      <th>UR</th>\n",
       "      <th>LR</th>\n",
       "      <th>is_abnormal</th>\n",
       "      <th>criteria</th>\n",
       "    </tr>\n",
       "  </thead>\n",
       "  <tbody>\n",
       "    <tr>\n",
       "      <th>0</th>\n",
       "      <td>sf_101.pdf</td>\n",
       "      <td>Extraction Failure</td>\n",
       "      <td>Extraction Failure</td>\n",
       "      <td>0034527.9</td>\n",
       "      <td>Right</td>\n",
       "      <td>2012-08-24</td>\n",
       "      <td>[[0.0, 0.0, 0.0, 0.0, 0.0, 0.0, 0.0, 0.0, 0.0,...</td>\n",
       "      <td></td>\n",
       "      <td>24-2:98%</td>\n",
       "      <td>unknown</td>\n",
       "      <td>...</td>\n",
       "      <td>False</td>\n",
       "      <td>False</td>\n",
       "      <td>False</td>\n",
       "      <td>True</td>\n",
       "      <td>False</td>\n",
       "      <td>False</td>\n",
       "      <td>False</td>\n",
       "      <td>False</td>\n",
       "      <td>True</td>\n",
       "      <td>2.0</td>\n",
       "    </tr>\n",
       "    <tr>\n",
       "      <th>1</th>\n",
       "      <td>sf_115.pdf</td>\n",
       "      <td>Extraction Failure</td>\n",
       "      <td>Extraction Failure</td>\n",
       "      <td>1387163</td>\n",
       "      <td>Right</td>\n",
       "      <td>2013-05-24</td>\n",
       "      <td>[[0.0, 0.0, 0.0, 0.0, 0.0, 0.0, 0.0, 0.0, 0.0,...</td>\n",
       "      <td>+5.25 DS</td>\n",
       "      <td>:99%</td>\n",
       "      <td>unknown</td>\n",
       "      <td>...</td>\n",
       "      <td>False</td>\n",
       "      <td>False</td>\n",
       "      <td>False</td>\n",
       "      <td>False</td>\n",
       "      <td>False</td>\n",
       "      <td>False</td>\n",
       "      <td>False</td>\n",
       "      <td>False</td>\n",
       "      <td>False</td>\n",
       "      <td>2.0</td>\n",
       "    </tr>\n",
       "  </tbody>\n",
       "</table>\n",
       "<p>2 rows × 31 columns</p>\n",
       "</div>"
      ],
      "text/plain": [
       "     filename                name                 dob         id    eye  \\\n",
       "0  sf_101.pdf  Extraction Failure  Extraction Failure  0034527.9  Right   \n",
       "1  sf_115.pdf  Extraction Failure  Extraction Failure    1387163  Right   \n",
       "\n",
       "   test_date                           pattern_deviation_matrix        rx  \\\n",
       "0 2012-08-24  [[0.0, 0.0, 0.0, 0.0, 0.0, 0.0, 0.0, 0.0, 0.0,...             \n",
       "1 2013-05-24  [[0.0, 0.0, 0.0, 0.0, 0.0, 0.0, 0.0, 0.0, 0.0,...  +5.25 DS   \n",
       "\n",
       "        vfi      ght  ...     UL     LL     UM     UC     LC     LM     UR  \\\n",
       "0  24-2:98%  unknown  ...  False  False  False   True  False  False  False   \n",
       "1      :99%  unknown  ...  False  False  False  False  False  False  False   \n",
       "\n",
       "      LR is_abnormal criteria  \n",
       "0  False        True      2.0  \n",
       "1  False       False      2.0  \n",
       "\n",
       "[2 rows x 31 columns]"
      ]
     },
     "metadata": {},
     "output_type": "display_data"
    }
   ],
   "source": [
    "# extract files\n",
    "extractor = extractHVFData.ExtractHVFData()\n",
    "paths = extractor.getSingleFieldPaths(2)\n",
    "FileProcesser = processFiles.ProcessFiles() # create processor object\n",
    "for path in paths: \n",
    "    user = FileProcesser.runFile(path, user)\n",
    "    data_frame.addData(user)\n",
    "\n",
    "display(data_frame.df)\n"
   ]
  },
  {
   "cell_type": "markdown",
   "metadata": {},
   "source": []
  }
 ],
 "metadata": {
  "kernelspec": {
   "display_name": "Python 3.10.4 ('automated-hvf-grading')",
   "language": "python",
   "name": "python3"
  },
  "language_info": {
   "codemirror_mode": {
    "name": "ipython",
    "version": 3
   },
   "file_extension": ".py",
   "mimetype": "text/x-python",
   "name": "python",
   "nbconvert_exporter": "python",
   "pygments_lexer": "ipython3",
   "version": "3.10.4"
  },
  "orig_nbformat": 4,
  "vscode": {
   "interpreter": {
    "hash": "a49396cd7606816f4762969f156db9c82a746426aa1c43471e4e1aa2d0587120"
   }
  }
 },
 "nbformat": 4,
 "nbformat_minor": 2
}
