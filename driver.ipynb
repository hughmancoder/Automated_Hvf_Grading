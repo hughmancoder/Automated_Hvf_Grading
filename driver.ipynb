{
 "cells": [
  {
   "cell_type": "code",
   "execution_count": 14,
   "metadata": {},
   "outputs": [
    {
     "name": "stdout",
     "output_type": "stream",
     "text": [
      "Info: Analysing C:\\Users\\sonel\\Downloads\\E1_1340_OS_SFA_CENTRAL_24_2_THRESHOLD_TEST_OS_1.2.276.0.75.2.5.80.25.3.200331020439703.22002785422940.26311272.pdf\n",
      "Error: Error occured in extracting matrix from VF file as file: C:\\Users\\sonel\\Downloads\\E1_1340_OS_SFA_CENTRAL_24_2_THRESHOLD_TEST_OS_1.2.276.0.75.2.5.80.25.3.200331020439703.22002785422940.26311272.pdf not in readable format\n",
      "Error: matrix is empty data not extracted\n",
      "['E1_1340_OS_SFA_CENTRAL_24_2_THRESHOLD_TEST_OS_1.2.276.0.75.2.5.80.25.3.200331020439703.22002785422940.26311272.pdf', 'Error', 'Error', 'Error', 'Error', 'Error', 'Error', 'Error', 'Error', 'Error', 'Error', 'Error', 'Error', 'Error', 'Error', 'Error', 'Error', 'Error', 'Error', 'Error', 'Error', 'Error', 'Error']\n",
      "script complete\n"
     ]
    }
   ],
   "source": [
    "# == runs functions ==\n",
    "import pandas as pd\n",
    "\n",
    "\n",
    "# == dependencies == \n",
    "# from IPython.display import display # to display df for testing\n",
    "\n",
    "from automated_hvf_grading import processFiles\n",
    "\n",
    "# == build data frame == \n",
    "# def buildDataframe():\n",
    "#     dataframe_column_names = [\n",
    "#         \"FileName\",\n",
    "#         \"Name\",\n",
    "#         \"DOB\",\n",
    "#         \"ID\",\n",
    "#         \"Eye\",\n",
    "#         \"Size\",\n",
    "#         \"Date\",\n",
    "#         \"RX\",\n",
    "#         \"GHT\",\n",
    "#         \"VFI\",\n",
    "#         \"MD_db\",\n",
    "#         \"MD\",\n",
    "#         \"PSD\",\n",
    "#         \"PSD_db\",\n",
    "#         \"FalsePOS\",\n",
    "#         \"FixationLoss\",\n",
    "#         \"Reliable\",\n",
    "#         \"UL\",\n",
    "#         \"LL\",\n",
    "#         \"UM\",\n",
    "#         \"UC\",\n",
    "#         \"LC\",\n",
    "#         \"LM\",\n",
    "#         \"UR\",\n",
    "#         \"LR\",\n",
    "#         \"Criteria\",\n",
    "#         \"isAbnormal\",\n",
    "#     ]\n",
    "\n",
    "#     ParallelProcesser = ParallelProcess() # parallel processor object\n",
    "#     data = ParallelProcesser.RunFile(\"\")\n",
    "#     return  pd.DataFrame(data, columns = dataframe_column_names)\n",
    "\n",
    "# df = buildDataframe()\n",
    "FileProcesser = processFiles.ProcessFiles()\n",
    "print(FileProcesser.runFile(\"\"))\n",
    "pd.set_option(\n",
    "    \"display.max_rows\", None, \"display.max_columns\", None\n",
    ")  # shows full df\n",
    "\n",
    "# display(df) # jupyter notebook \n",
    "# print(df.head())\n",
    "\n",
    "print(\"script complete\")"
   ]
  }
 ],
 "metadata": {
  "kernelspec": {
   "display_name": "Python 3.10.4 ('newminienv')",
   "language": "python",
   "name": "python3"
  },
  "language_info": {
   "codemirror_mode": {
    "name": "ipython",
    "version": 3
   },
   "file_extension": ".py",
   "mimetype": "text/x-python",
   "name": "python",
   "nbconvert_exporter": "python",
   "pygments_lexer": "ipython3",
   "version": "3.10.4"
  },
  "orig_nbformat": 4,
  "vscode": {
   "interpreter": {
    "hash": "8a41e2736785953ab5d979ae85781cede7caadbb6c124f9fd6c938ec39bedee3"
   }
  }
 },
 "nbformat": 4,
 "nbformat_minor": 2
}
