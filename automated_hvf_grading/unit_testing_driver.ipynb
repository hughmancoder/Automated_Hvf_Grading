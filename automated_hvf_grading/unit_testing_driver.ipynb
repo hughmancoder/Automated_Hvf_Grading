{
 "cells": [
  {
   "cell_type": "code",
   "execution_count": 1,
   "metadata": {},
   "outputs": [
    {
     "name": "stdout",
     "output_type": "stream",
     "text": [
      "extraction started\n",
      "/Users/hughsignoriello/Desktop/automated-hvf-grading/singleField/FD_20120629_0907_SFA_OS_1.2.276.0.75.2.5.80.25.3.160415002428463.22002785422940.70696423.pdf\n",
      "/Users/hughsignoriello/Desktop/automated-hvf-grading/automated_hvf_grading\n",
      "Error: df2image library can not read pdf, convert_from_path error [Errno 2] No such file or directory: '/Users/hughsignoriello/Desktop/automated-hvf-grading/automated_hvf_grading/imageData/FD_20120629_0907_SFA_OS_1.2.276.0.75.2.5.80.25.3.160415002428463.22002785422940.70696423.png'\n",
      "/Users/hughsignoriello/Desktop/automated-hvf-grading/singleField/BW_20130524_1034_SFA_OD_1.2.276.0.75.2.5.80.25.3.160414204325040.22002785422940.70630703.pdf\n",
      "/Users/hughsignoriello/Desktop/automated-hvf-grading/automated_hvf_grading\n",
      "Error: df2image library can not read pdf, convert_from_path error [Errno 2] No such file or directory: '/Users/hughsignoriello/Desktop/automated-hvf-grading/automated_hvf_grading/imageData/BW_20130524_1034_SFA_OD_1.2.276.0.75.2.5.80.25.3.160414204325040.22002785422940.70630703.png'\n",
      "/Users/hughsignoriello/Desktop/automated-hvf-grading/singleField/CJ_20130125_1454_OD_SFA_CENTRAL_24_2_THRESHOLD_TEST_OD_1.2.276.0.75.2.5.80.25.3.200331063100973.22002785422940.26358248.pdf\n",
      "/Users/hughsignoriello/Desktop/automated-hvf-grading/automated_hvf_grading\n",
      "Error: df2image library can not read pdf, convert_from_path error [Errno 2] No such file or directory: '/Users/hughsignoriello/Desktop/automated-hvf-grading/automated_hvf_grading/imageData/CJ_20130125_1454_OD_SFA_CENTRAL_24_2_THRESHOLD_TEST_OD_1.2.276.0.75.2.5.80.25.3.200331063100973.22002785422940.26358248.png'\n",
      "/Users/hughsignoriello/Desktop/automated-hvf-grading/singleField/CG_20130524_1422_OS_SFA_CENTRAL_24_2_THRESHOLD_TEST_OS_1.2.276.0.75.2.5.80.25.3.200331021708504.22002785422940.26313585.pdf\n",
      "/Users/hughsignoriello/Desktop/automated-hvf-grading/automated_hvf_grading\n",
      "Error: df2image library can not read pdf, convert_from_path error [Errno 2] No such file or directory: '/Users/hughsignoriello/Desktop/automated-hvf-grading/automated_hvf_grading/imageData/CG_20130524_1422_OS_SFA_CENTRAL_24_2_THRESHOLD_TEST_OS_1.2.276.0.75.2.5.80.25.3.200331021708504.22002785422940.26313585.png'\n",
      "/Users/hughsignoriello/Desktop/automated-hvf-grading/singleField/DB_20130510_1446_OS_SFA_CENTRAL_24_2_THRESHOLD_TEST_OS_1.2.276.0.75.2.5.80.25.3.200331063903602.22002785422940.26359445.pdf\n",
      "/Users/hughsignoriello/Desktop/automated-hvf-grading/automated_hvf_grading\n",
      "Error: df2image library can not read pdf, convert_from_path error [Errno 2] No such file or directory: '/Users/hughsignoriello/Desktop/automated-hvf-grading/automated_hvf_grading/imageData/DB_20130510_1446_OS_SFA_CENTRAL_24_2_THRESHOLD_TEST_OS_1.2.276.0.75.2.5.80.25.3.200331063903602.22002785422940.26359445.png'\n",
      "/Users/hughsignoriello/Desktop/automated-hvf-grading/singleField/DV_20130607_1603_OS_SFA_CENTRAL_24_2_THRESHOLD_TEST_OS_1.2.276.0.75.2.5.80.25.3.200331021446910.22002785422940.26313162.pdf\n",
      "/Users/hughsignoriello/Desktop/automated-hvf-grading/automated_hvf_grading\n",
      "Error: df2image library can not read pdf, convert_from_path error [Errno 2] No such file or directory: '/Users/hughsignoriello/Desktop/automated-hvf-grading/automated_hvf_grading/imageData/DV_20130607_1603_OS_SFA_CENTRAL_24_2_THRESHOLD_TEST_OS_1.2.276.0.75.2.5.80.25.3.200331021446910.22002785422940.26313162.png'\n",
      "/Users/hughsignoriello/Desktop/automated-hvf-grading/singleField/FD_20130809_1345_SFA_OD_1.2.276.0.75.2.5.80.25.3.160415002427220.22002785422940.70696418.pdf\n",
      "/Users/hughsignoriello/Desktop/automated-hvf-grading/automated_hvf_grading\n",
      "Error: df2image library can not read pdf, convert_from_path error [Errno 2] No such file or directory: '/Users/hughsignoriello/Desktop/automated-hvf-grading/automated_hvf_grading/imageData/FD_20130809_1345_SFA_OD_1.2.276.0.75.2.5.80.25.3.160415002427220.22002785422940.70696418.png'\n",
      "/Users/hughsignoriello/Desktop/automated-hvf-grading/singleField/CW_20121130_1443_OD_SFA_CENTRAL_24_2_THRESHOLD_TEST_OD_1.2.276.0.75.2.5.80.25.3.200331130716839.22002785422940.26468101.pdf\n",
      "/Users/hughsignoriello/Desktop/automated-hvf-grading/automated_hvf_grading\n",
      "Error: df2image library can not read pdf, convert_from_path error [Errno 2] No such file or directory: '/Users/hughsignoriello/Desktop/automated-hvf-grading/automated_hvf_grading/imageData/CW_20121130_1443_OD_SFA_CENTRAL_24_2_THRESHOLD_TEST_OD_1.2.276.0.75.2.5.80.25.3.200331130716839.22002785422940.26468101.png'\n",
      "/Users/hughsignoriello/Desktop/automated-hvf-grading/singleField/AC_20130809_1448_OS_SFA_CENTRAL_24_2_THRESHOLD_TEST_OS_1.2.276.0.75.2.5.80.25.3.200331032022040.22002785422940.26325080.pdf\n",
      "/Users/hughsignoriello/Desktop/automated-hvf-grading/automated_hvf_grading\n",
      "Error: df2image library can not read pdf, convert_from_path error [Errno 2] No such file or directory: '/Users/hughsignoriello/Desktop/automated-hvf-grading/automated_hvf_grading/imageData/AC_20130809_1448_OS_SFA_CENTRAL_24_2_THRESHOLD_TEST_OS_1.2.276.0.75.2.5.80.25.3.200331032022040.22002785422940.26325080.png'\n",
      "/Users/hughsignoriello/Desktop/automated-hvf-grading/singleField/CD_20130524_1336_OD_SFA_CENTRAL_24_2_THRESHOLD_TEST_OD_1.2.276.0.75.2.5.80.25.3.200331021546145.22002785422940.26313336.pdf\n",
      "/Users/hughsignoriello/Desktop/automated-hvf-grading/automated_hvf_grading\n",
      "Error: df2image library can not read pdf, convert_from_path error [Errno 2] No such file or directory: '/Users/hughsignoriello/Desktop/automated-hvf-grading/automated_hvf_grading/imageData/CD_20130524_1336_OD_SFA_CENTRAL_24_2_THRESHOLD_TEST_OD_1.2.276.0.75.2.5.80.25.3.200331021546145.22002785422940.26313336.png'\n"
     ]
    }
   ],
   "source": [
    "\n",
    "import sys\n",
    "import os\n",
    "from extractHVFData import ExtractHVFData\n",
    "\n",
    "# importlib.reload(extractHVFData) # sync updates\n",
    "extractor = ExtractHVFData()\n",
    "paths = extractor.getSingleFieldPaths(1)\n",
    "for path in paths:\n",
    "    print(path)\n",
    "    img_path = extractor.ExtractPDF(path)\n",
    "\n",
    "# # matrix = extractor.extractMatrix(img_path, {})\n",
    "# # print(matrix)\n",
    "\n"
   ]
  },
  {
   "cell_type": "markdown",
   "metadata": {},
   "source": []
  }
 ],
 "metadata": {
  "kernelspec": {
   "display_name": "Python 3.10.4 ('automated-hvf-grading')",
   "language": "python",
   "name": "python3"
  },
  "language_info": {
   "codemirror_mode": {
    "name": "ipython",
    "version": 3
   },
   "file_extension": ".py",
   "mimetype": "text/x-python",
   "name": "python",
   "nbconvert_exporter": "python",
   "pygments_lexer": "ipython3",
   "version": "3.10.4"
  },
  "orig_nbformat": 4,
  "vscode": {
   "interpreter": {
    "hash": "a49396cd7606816f4762969f156db9c82a746426aa1c43471e4e1aa2d0587120"
   }
  }
 },
 "nbformat": 4,
 "nbformat_minor": 2
}
