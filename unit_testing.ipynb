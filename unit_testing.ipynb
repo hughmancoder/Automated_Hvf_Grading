{
 "cells": [
  {
   "cell_type": "code",
   "execution_count": 2,
   "metadata": {},
   "outputs": [],
   "source": [
    "import sys\n",
    "import os\n",
    "import numpy as np\n",
    "import pandas as pd\n",
    "from automated_hvf_grading import extractHVFData\n",
    "from automated_hvf_grading import processData\n",
    "from automated_hvf_grading import processFiles\n",
    "from automated_hvf_grading import dataFrame\n",
    "from automated_hvf_grading import user\n",
    "from IPython.display import display # displaying dataframe\n",
    "pd.set_option(\"display.max_rows\", None, \"display.max_columns\", None)"
   ]
  },
  {
   "cell_type": "code",
   "execution_count": 3,
   "metadata": {},
   "outputs": [
    {
     "name": "stdout",
     "output_type": "stream",
     "text": [
      "['filename', 'name', 'dob', 'id', 'eye', 'test_date', 'pattern_deviation_matrix', 'strategy', 'laterality', 'fovea', 'layout_version', 'rx', 'vfi_24_2', 'vfi', 'ght', 'md_perc', 'md_db', 'psd_perc', 'psd_db', 'false_pos', 'false_neg', 'fixation_loss', 'reliable', 'field_size', 'algorithm_criteria', 'error', 'UL', 'LL', 'UM', 'UC', 'LC', 'LM', 'UR', 'LR', 'is_abnormal']\n",
      "['N/A', 'N/A', 'N/A', 'N/A', 'N/A', 'N/A', [], 'N/A', 'N/A', 'N/A', 'N/A', 'N/A', 'N/A', 'N/A', 'N/A', 'N/A', 'N/A', 'N/A', 'N/A', 'N/A', 'N/A', 'N/A', 'N/A', 'N/A', 'N/A', False, False, False, False, False, False, False, False, False, 'N/A']\n",
      "<bound method User.getObjectDictionary of <automated_hvf_grading.user.User object at 0x7f91d924fb50>>\n"
     ]
    }
   ],
   "source": [
    "# testing object methods\n",
    "\n",
    "userObj = user.User()\n",
    "print(userObj.getAttributes())\n",
    "print(userObj.getValues())\n",
    "print(userObj.getObjectDictionary)"
   ]
  },
  {
   "cell_type": "code",
   "execution_count": 4,
   "metadata": {},
   "outputs": [
    {
     "name": "stdout",
     "output_type": "stream",
     "text": [
      "running change\n",
      "{'filename': 'N/A', 'name': 'N/A', 'dob': 'N/A', 'id': 'N/A', 'eye': 'N/A', 'test_date': 'N/A', 'pattern_deviation_matrix': [], 'strategy': 'N/A', 'laterality': 'N/A', 'fovea': 'N/A', 'layout_version': 'N/A', 'rx': 'N/A', 'vfi_24_2': 'N/A', 'vfi': 'N/A', 'ght': 'N/A', 'md_perc': 'N/A', 'md_db': 'N/A', 'psd_perc': 'N/A', 'psd_db': 'N/A', 'false_pos': 'N/A', 'false_neg': 'N/A', 'fixation_loss': 'N/A', 'reliable': 'N/A', 'field_size': 'N/A', 'algorithm_criteria': 'N/A', 'error': False, 'UL': False, 'LL': False, 'UM': False, 'UC': False, 'LC': False, 'LM': False, 'UR': False, 'LR': False, 'is_abnormal': 'N/A'}\n"
     ]
    },
    {
     "data": {
      "text/html": [
       "<div>\n",
       "<style scoped>\n",
       "    .dataframe tbody tr th:only-of-type {\n",
       "        vertical-align: middle;\n",
       "    }\n",
       "\n",
       "    .dataframe tbody tr th {\n",
       "        vertical-align: top;\n",
       "    }\n",
       "\n",
       "    .dataframe thead th {\n",
       "        text-align: right;\n",
       "    }\n",
       "</style>\n",
       "<table border=\"1\" class=\"dataframe\">\n",
       "  <thead>\n",
       "    <tr style=\"text-align: right;\">\n",
       "      <th></th>\n",
       "      <th>filename</th>\n",
       "      <th>name</th>\n",
       "      <th>dob</th>\n",
       "      <th>id</th>\n",
       "      <th>eye</th>\n",
       "      <th>test_date</th>\n",
       "      <th>pattern_deviation_matrix</th>\n",
       "      <th>strategy</th>\n",
       "      <th>laterality</th>\n",
       "      <th>fovea</th>\n",
       "      <th>...</th>\n",
       "      <th>UL</th>\n",
       "      <th>LL</th>\n",
       "      <th>UM</th>\n",
       "      <th>UC</th>\n",
       "      <th>LC</th>\n",
       "      <th>LM</th>\n",
       "      <th>UR</th>\n",
       "      <th>LR</th>\n",
       "      <th>is_abnormal</th>\n",
       "      <th>0</th>\n",
       "    </tr>\n",
       "  </thead>\n",
       "  <tbody>\n",
       "    <tr>\n",
       "      <th>0</th>\n",
       "      <td>NaN</td>\n",
       "      <td>NaN</td>\n",
       "      <td>NaN</td>\n",
       "      <td>NaN</td>\n",
       "      <td>NaN</td>\n",
       "      <td>NaN</td>\n",
       "      <td>NaN</td>\n",
       "      <td>NaN</td>\n",
       "      <td>NaN</td>\n",
       "      <td>NaN</td>\n",
       "      <td>...</td>\n",
       "      <td>NaN</td>\n",
       "      <td>NaN</td>\n",
       "      <td>NaN</td>\n",
       "      <td>NaN</td>\n",
       "      <td>NaN</td>\n",
       "      <td>NaN</td>\n",
       "      <td>NaN</td>\n",
       "      <td>NaN</td>\n",
       "      <td>NaN</td>\n",
       "      <td>test</td>\n",
       "    </tr>\n",
       "  </tbody>\n",
       "</table>\n",
       "<p>1 rows × 36 columns</p>\n",
       "</div>"
      ],
      "text/plain": [
       "  filename name  dob   id  eye test_date pattern_deviation_matrix strategy  \\\n",
       "0      NaN  NaN  NaN  NaN  NaN       NaN                      NaN      NaN   \n",
       "\n",
       "  laterality fovea  ...   UL   LL   UM   UC   LC   LM   UR   LR is_abnormal  \\\n",
       "0        NaN   NaN  ...  NaN  NaN  NaN  NaN  NaN  NaN  NaN  NaN         NaN   \n",
       "\n",
       "      0  \n",
       "0  test  \n",
       "\n",
       "[1 rows x 36 columns]"
      ]
     },
     "metadata": {},
     "output_type": "display_data"
    }
   ],
   "source": [
    "# testing data frame initialisation\n",
    "user = user.User()\n",
    "data_frame = dataFrame.DataFrame(user)\n",
    "data_frame.addData(user)\n",
    "display(data_frame.df)"
   ]
  },
  {
   "cell_type": "code",
   "execution_count": 5,
   "metadata": {},
   "outputs": [
    {
     "name": "stdout",
     "output_type": "stream",
     "text": [
      "Error: ght unable to be extracted type object 'Hvf_Object' has no attribute 'KEYLABEL_GHT'\n",
      "Error: metadata md % not able to be extracted type object 'Hvf_Object' has no attribute 'KEYLABEL_MDP'\n",
      "Error: metadata psd % not able to be extracted type object 'Hvf_Object' has no attribute 'KEYLABEL_PSDP'\n",
      "Error: user criteria is unable to be determined due to faulty psd% format; Defaulting to criteria 2\n",
      "running change\n",
      "{'filename': 'sf_101.pdf', 'name': 'Extraction Failure', 'dob': 'Extraction Failure', 'id': '0034527.9', 'eye': 'Right', 'test_date': datetime.datetime(2012, 8, 24, 0, 0), 'pattern_deviation_matrix': [[0.0, 0.0, 0.0, 0.0, 0.0, 0.0, 0.0, 0.0, 0.0, 0.0], [0.0, 0.0, 0.0, 0.0, 0.0, 0.0, 0.0, 0.0, 0.0, 0.0], [0.0, 0.0, 0.0, 0.0, 0.0, 0.0, 0.0, 0.0, 0.0, 0.0], [0.0, 5.0, 0.0, 0.0, 1.0, 2.0, 0.0, 0.0, 0.0, 0.0], [0.0, 0.0, 0.0, 0.0, 1.0, 0.0, 2.0, 0.0, 0.0, 0.0], [0.0, 0.0, 0.0, 0.0, 0.0, 0.0, 0.0, 0.0, 0.0, 0.0], [0.0, 0.0, 0.0, 0.5, 0.0, 0.0, 0.0, 0.0, 0.0, 0.0], [0.0, 0.0, 0.0, 0.0, 0.0, 0.0, 0.0, 0.0, 0.0, 0.0], [0.0, 0.0, 0.0, 5.0, 0.0, 0.0, 5.0, 0.0, 0.0, 0.0], [0.0, 0.0, 0.0, 0.0, 0.0, 0.0, 0.0, 0.0, 0.0, 0.0]], 'strategy': 'SITA Fast', 'laterality': 'Right', 'fovea': 'Off', 'layout_version': 'v2', 'rx': '', 'vfi_24_2': '98%', 'vfi': 'N/A', 'ght': 'N/A', 'md_perc': 'N/A', 'md_db': '24-2-1.24', 'psd_perc': 'N/A', 'psd_db': '24-21.71', 'false_pos': 0, 'false_neg': 0, 'fixation_loss': 7.69, 'reliable': True, 'field_size': '24-2', 'algorithm_criteria': 'N/A', 'error': True, 'UL': False, 'LL': False, 'UM': False, 'UC': True, 'LC': False, 'LM': False, 'UR': False, 'LR': False, 'is_abnormal': True, 'criteria': 2}\n"
     ]
    },
    {
     "ename": "AttributeError",
     "evalue": "'DataFrame' object has no attribute 'getObjectValues'",
     "output_type": "error",
     "traceback": [
      "\u001b[0;31m---------------------------------------------------------------------------\u001b[0m",
      "\u001b[0;31mAttributeError\u001b[0m                            Traceback (most recent call last)",
      "\u001b[1;32m/Users/hughsignoriello/Desktop/Automated_Hvf_Grading/unit_testing.ipynb Cell 4\u001b[0m in \u001b[0;36m<cell line: 10>\u001b[0;34m()\u001b[0m\n\u001b[1;32m      <a href='vscode-notebook-cell:/Users/hughsignoriello/Desktop/Automated_Hvf_Grading/unit_testing.ipynb#W4sZmlsZQ%3D%3D?line=6'>7</a>\u001b[0m     user \u001b[39m=\u001b[39m FileProcesser\u001b[39m.\u001b[39mrunFile(path, user)\n\u001b[1;32m      <a href='vscode-notebook-cell:/Users/hughsignoriello/Desktop/Automated_Hvf_Grading/unit_testing.ipynb#W4sZmlsZQ%3D%3D?line=7'>8</a>\u001b[0m     data_frame\u001b[39m.\u001b[39maddData(user)\n\u001b[0;32m---> <a href='vscode-notebook-cell:/Users/hughsignoriello/Desktop/Automated_Hvf_Grading/unit_testing.ipynb#W4sZmlsZQ%3D%3D?line=9'>10</a>\u001b[0m \u001b[39mprint\u001b[39m(data_frame\u001b[39m.\u001b[39;49mgetObjectValues(user))\n\u001b[1;32m     <a href='vscode-notebook-cell:/Users/hughsignoriello/Desktop/Automated_Hvf_Grading/unit_testing.ipynb#W4sZmlsZQ%3D%3D?line=10'>11</a>\u001b[0m display(data_frame\u001b[39m.\u001b[39mdf)\n",
      "\u001b[0;31mAttributeError\u001b[0m: 'DataFrame' object has no attribute 'getObjectValues'"
     ]
    }
   ],
   "source": [
    "# testing extraction\n",
    "\n",
    "extractor = extractHVFData.ExtractHVFData()\n",
    "paths = extractor.getSingleFieldPaths(1)\n",
    "FileProcesser = processFiles.ProcessFiles() # create processor object\n",
    "for path in paths: \n",
    "    user = FileProcesser.runFile(path, user)\n",
    "    data_frame.addData(user)\n",
    "\n",
    "print(data_frame.getObjectValues(user))\n",
    "display(data_frame.df)"
   ]
  },
  {
   "cell_type": "code",
   "execution_count": 6,
   "metadata": {},
   "outputs": [
    {
     "name": "stdout",
     "output_type": "stream",
     "text": [
      "/Users/hughsignoriello/Desktop/Automated_Hvf_Grading/automated_hvf_grading/../singleField/sf_101.pdf\n"
     ]
    }
   ],
   "source": [
    "# testing file path extraction\n",
    "\n",
    "extractor = extractHVFData.ExtractHVFData()\n",
    "paths = extractor.getSingleFieldPaths(1)\n",
    "print(paths[0])\n"
   ]
  },
  {
   "cell_type": "code",
   "execution_count": null,
   "metadata": {},
   "outputs": [],
   "source": [
    "# testing data frame features\n",
    "\"\"\"\n",
    "c = [1,2,3]\n",
    "dict = {1: 'b', 2:'c', 3:'d'}\n",
    "dict1 = {1: 'd', 2:'a', 3:'d'}\n",
    "output = pd.DataFrame(columns = c)\n",
    "output = output.append(dict, ignore_index=True)\n",
    "output = output.append(dict1, ignore_index=True)\n",
    "print(output.head())\n",
    "\"\"\"\n",
    "\n",
    "# testing errorSample from email\n",
    "\n",
    "pdf_path = '/Users/hughsignoriello/Desktop/Automated_Hvf_Grading/singleField/errorSample.pdf'\n",
    "FileProcesser = processFiles.ProcessFiles() # create processor object\n",
    "user = FileProcesser.runFile(pdf_path, user)\n",
    "print(user.abnormal_regions)\n",
    "print(user.criteria)\n",
    "print(user.eye)\n",
    "processData.ProcessData.PrintMatrix(user.pattern_deviation_matrix)\n"
   ]
  },
  {
   "cell_type": "code",
   "execution_count": null,
   "metadata": {},
   "outputs": [],
   "source": [
    "# testing errorpdf extraction\n",
    "\n",
    "user = extractor.extractData(pdf_path, user)\n",
    "attributes = [a for a in dir(user) if not a.startswith('__')]\n",
    "print(vars(user))\n",
    "\n",
    "processData.ProcessData.PrintMatrix(user.pattern_deviation_matrix)\n",
    "\n",
    "\n",
    "# testing bulk processing\n",
    "\"\"\"\n",
    "for path in paths:\n",
    "    matrix = extractor.extractMatrix(path)\n",
    "\n",
    "user = extractor.extractData(left_path, user)\n",
    "mat = user.matrix\n",
    "print(user.reliable)\n",
    "print(user.eye)\n",
    "processData.ProcessData.PrintMatrix(mat)\n",
    "\"\"\"\n",
    "\n",
    "# testing bounds\n",
    "\"\"\"\n",
    "region_map_20_left = {  \n",
    "            \"UL\": (1, 2, 2, 4),\n",
    "            \"LL\": (1, 5, 2, 7),\n",
    "            \"UM\": (3, 2, 6, 3),  \n",
    "            \"UC\": (3, 3, 6, 4),\n",
    "            \"LC\": (3, 5, 6, 6),\n",
    "            \"LM\": (3, 6, 6, 8),\n",
    "            \"UR\": (7, 2, 9, 4),\n",
    "            \"LR\": (7, 5, 9, 7)\n",
    "}\n",
    "region_map_20_right = {  \n",
    "            \"UL\": (0, 2, 2, 4),  \n",
    "            \"LL\": (0, 5, 2, 7),\n",
    "            \"UM\": (3, 2, 6, 3),  \n",
    "            \"UC\": (3, 3, 6, 4),\n",
    "            \"LC\": (3, 5, 6, 6),\n",
    "            \"LM\": (3, 6, 6, 8),\n",
    "            \"UR\": (7, 2, 8, 4),\n",
    "            \"LR\": (7, 5, 8, 7)\n",
    "        }\n",
    "\n",
    "\n",
    "m = np.zeros((10, 10)).tolist()\n",
    "\n",
    "for region, coords in region_map_20_right.items():\n",
    "    ux, uy, lx ,ly = coords\n",
    "    for r in range(uy, ly + 1):\n",
    "        for c in range(ux, lx + 1):\n",
    "            m[r][c] = str(region) + ' '\n",
    "\n",
    "processData.ProcessData.PrintMatrix(m)\n",
    "\"\"\"\n"
   ]
  }
 ],
 "metadata": {
  "kernelspec": {
   "display_name": "Python 3.10.6 ('main')",
   "language": "python",
   "name": "python3"
  },
  "language_info": {
   "codemirror_mode": {
    "name": "ipython",
    "version": 3
   },
   "file_extension": ".py",
   "mimetype": "text/x-python",
   "name": "python",
   "nbconvert_exporter": "python",
   "pygments_lexer": "ipython3",
   "version": "3.10.6"
  },
  "orig_nbformat": 4,
  "vscode": {
   "interpreter": {
    "hash": "dc3f80f4af8dbce7064b9e4c3a9ff1b0d991ba860a55354ca013d5be991b8042"
   }
  }
 },
 "nbformat": 4,
 "nbformat_minor": 2
}
